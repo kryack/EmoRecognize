{
 "cells": [
  {
   "cell_type": "code",
   "execution_count": 5,
   "metadata": {},
   "outputs": [],
   "source": [
    "import torch\n",
    "import pandas\n",
    "import csv\n",
    "import sys\n",
    "import os"
   ]
  },
  {
   "cell_type": "code",
   "execution_count": 6,
   "metadata": {},
   "outputs": [
    {
     "name": "stdout",
     "output_type": "stream",
     "text": [
      "/home/r/Desktop/EmotionalRecognition\n"
     ]
    }
   ],
   "source": [
    "!pwd"
   ]
  },
  {
   "cell_type": "code",
   "execution_count": 15,
   "metadata": {},
   "outputs": [],
   "source": [
    "pathaudio = 'Data/train/audio/'\n",
    "patheyes = 'Data/train/eyes/'\n",
    "pathface = 'Data/train/face_nn/'\n",
    "pathkinect = 'Data/train/kinect/'\n",
    "pathlabels = 'Data/train/labels/'"
   ]
  },
  {
   "cell_type": "code",
   "execution_count": 23,
   "metadata": {},
   "outputs": [],
   "source": [
    "list_audio = os.listdir(pathaudio)\n",
    "list_eyes = os.listdir(patheyes)\n",
    "list_face = os.listdir(pathface)\n",
    "list_kinect = os.listdir(pathkinect)\n",
    "list_labels = os.listdir(pathlabels)"
   ]
  },
  {
   "cell_type": "code",
   "execution_count": 30,
   "metadata": {},
   "outputs": [
    {
     "name": "stdout",
     "output_type": "stream",
     "text": [
      "Количество файлов по папкам:\n",
      "1) audio: 272\n",
      "2) eyes: 306 \n",
      "3) face: 256 \n",
      "4) kinect: 295 \n",
      "5) labels: 312\n"
     ]
    }
   ],
   "source": [
    "print('Количество файлов по папкам:\\n1) audio: {}'\n",
    "      '\\n2) eyes: {} \\n3) face: {} \\n4) kinect: {} \\n5) labels: {}'\n",
    "     .format(len(list_audio), len(list_eyes), len(list_face), len(list_kinect), len(list_labels)))"
   ]
  },
  {
   "cell_type": "code",
   "execution_count": null,
   "metadata": {},
   "outputs": [],
   "source": []
  },
  {
   "cell_type": "code",
   "execution_count": null,
   "metadata": {},
   "outputs": [],
   "source": []
  }
 ],
 "metadata": {
  "kernelspec": {
   "display_name": "Python 3",
   "language": "python",
   "name": "python3"
  },
  "language_info": {
   "codemirror_mode": {
    "name": "ipython",
    "version": 3
   },
   "file_extension": ".py",
   "mimetype": "text/x-python",
   "name": "python",
   "nbconvert_exporter": "python",
   "pygments_lexer": "ipython3",
   "version": "3.7.1"
  }
 },
 "nbformat": 4,
 "nbformat_minor": 2
}
