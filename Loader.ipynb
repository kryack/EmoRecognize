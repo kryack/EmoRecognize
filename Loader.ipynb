{
 "cells": [
  {
   "cell_type": "code",
   "execution_count": null,
   "metadata": {},
   "outputs": [],
   "source": []
  },
  {
   "cell_type": "markdown",
   "metadata": {},
   "source": [
    "1) На время обучения убрать 0-вые файлы из папки"
   ]
  },
  {
   "cell_type": "code",
   "execution_count": null,
   "metadata": {},
   "outputs": [],
   "source": []
  },
  {
   "cell_type": "code",
   "execution_count": null,
   "metadata": {},
   "outputs": [],
   "source": []
  },
  {
   "cell_type": "code",
   "execution_count": 2,
   "metadata": {},
   "outputs": [],
   "source": [
    "import torch\n",
    "import pandas as pd\n",
    "import csv\n",
    "import sys\n",
    "import os\n",
    "import numpy as np\n",
    "import matplotlib.pyplot as plt\n"
   ]
  },
  {
   "cell_type": "markdown",
   "metadata": {},
   "source": [
    "### paths"
   ]
  },
  {
   "cell_type": "code",
   "execution_count": 5,
   "metadata": {},
   "outputs": [],
   "source": [
    "pathaudio = 'Data/train/audio/'\n",
    "patheyes = 'Data/train/eyes/'\n",
    "pathface = 'Data/train/face_nn/'\n",
    "pathkinect = 'Data/train/kinect/'\n",
    "pathlabels = 'Data/train/labels/'"
   ]
  },
  {
   "cell_type": "code",
   "execution_count": 6,
   "metadata": {},
   "outputs": [],
   "source": [
    "list_audio = os.listdir(pathaudio)\n",
    "list_eyes = os.listdir(patheyes)\n",
    "list_face = os.listdir(pathface)\n",
    "list_kinect = os.listdir(pathkinect)\n",
    "list_labels = os.listdir(pathlabels)"
   ]
  },
  {
   "cell_type": "code",
   "execution_count": 7,
   "metadata": {},
   "outputs": [
    {
     "name": "stdout",
     "output_type": "stream",
     "text": [
      "Количество файлов по папкам:\n",
      "1) audio: 272\n",
      "2) eyes: 306 \n",
      "3) face: 256 \n",
      "4) kinect: 295 \n",
      "5) labels: 312\n"
     ]
    }
   ],
   "source": [
    "print('Количество файлов по папкам:\\n1) audio: {}'\n",
    "      '\\n2) eyes: {} \\n3) face: {} \\n4) kinect: {} \\n5) labels: {}'\n",
    "     .format(len(list_audio), len(list_eyes), len(list_face), len(list_kinect), len(list_labels)))"
   ]
  },
  {
   "cell_type": "code",
   "execution_count": 14,
   "metadata": {},
   "outputs": [],
   "source": [
    "dict_of_labels = {}\n",
    "count_dict = {}\n",
    "\n",
    "for label in list_labels:\n",
    "    count_audio = list_audio.count(label)\n",
    "    count_eyes = list_eyes.count(label)\n",
    "    count_face = list_face.count(label)\n",
    "    count_kinect = list_kinect.count(label)\n",
    "    \n",
    "    if count_audio + count_eyes + count_face + count_kinect == 0:\n",
    "        continue\n",
    "    \n",
    "    object_dict = {'audio' : count_audio, 'eyes' : count_eyes, 'face' : count_face, 'kinect' : count_kinect}\n",
    "    \n",
    "    dict_of_labels[label] = object_dict\n",
    "    count_dict[label] = count_audio + count_eyes + count_face + count_kinect"
   ]
  },
  {
   "cell_type": "code",
   "execution_count": 15,
   "metadata": {},
   "outputs": [
    {
     "name": "stdout",
     "output_type": "stream",
     "text": [
      "306\n"
     ]
    },
    {
     "data": {
      "text/plain": [
       "[('id5181a851.csv', {'audio': 1, 'eyes': 1, 'face': 1, 'kinect': 1}),\n",
       " ('id13feb714.csv', {'audio': 1, 'eyes': 1, 'face': 1, 'kinect': 1}),\n",
       " ('idde0a7733.csv', {'audio': 0, 'eyes': 1, 'face': 0, 'kinect': 1}),\n",
       " ('id42d71a97.csv', {'audio': 0, 'eyes': 1, 'face': 1, 'kinect': 1}),\n",
       " ('id4d4cd53e.csv', {'audio': 1, 'eyes': 1, 'face': 0, 'kinect': 1}),\n",
       " ('id571e2b00.csv', {'audio': 0, 'eyes': 1, 'face': 1, 'kinect': 0}),\n",
       " ('id911ae0ab.csv', {'audio': 1, 'eyes': 1, 'face': 1, 'kinect': 1}),\n",
       " ('id8036ccb4.csv', {'audio': 1, 'eyes': 1, 'face': 1, 'kinect': 1}),\n",
       " ('idb9d6496b.csv', {'audio': 0, 'eyes': 1, 'face': 1, 'kinect': 0}),\n",
       " ('idd4bd6c5d.csv', {'audio': 1, 'eyes': 1, 'face': 1, 'kinect': 1})]"
      ]
     },
     "execution_count": 15,
     "metadata": {},
     "output_type": "execute_result"
    }
   ],
   "source": [
    "print(len(dict_of_labels))\n",
    "\n",
    "list(dict_of_labels.items())[:10]"
   ]
  },
  {
   "cell_type": "code",
   "execution_count": null,
   "metadata": {},
   "outputs": [],
   "source": []
  },
  {
   "cell_type": "markdown",
   "metadata": {},
   "source": [
    "### 123"
   ]
  },
  {
   "cell_type": "code",
   "execution_count": null,
   "metadata": {},
   "outputs": [],
   "source": [
    "set_precision = '{:.' + str(precision) + 'f}'\n",
    "    try:\n",
    "        strt[set_precision.format(modal[0, 0] - label[0, 0])] += 1\n",
    "    except:\n",
    "        strt[set_precision.format(modal[0, 0] - label[0, 0])] = 1\n",
    "\n",
    "    try:\n",
    "        shp[set_precision.format(len(label) / len(modal))] += 1\n",
    "    except:\n",
    "        shp[set_precision.format(len(label) / len(modal))] = 1        \n",
    "\n",
    "    try:\n",
    "        step[set_precision.format(modal[1, 0] - modal[0, 0])] += 1 \n",
    "    except:\n",
    "        step[set_precision.format(modal[1, 0] - modal[0, 0])] = 1"
   ]
  },
  {
   "cell_type": "code",
   "execution_count": null,
   "metadata": {},
   "outputs": [],
   "source": [
    "def restoration(data, shape):\n",
    "    \n",
    "    \n",
    "    set_precision = '{:.' + str(precision) + 'f}'\n",
    "    step = set_precision.format(modal[1, 0] - modal[0, 0])\n",
    "    \n",
    "    # if shape / data.shape * (0.02/0.04 for step) == 2/4 => non-separate - add mean values (найти разницу в старте и дополнить старт...)\n",
    "    # elif shape != and if start == start => step-by-step add (if step[i] > step => add zeros) if под конец shapes != => add zeros to the end\n",
    "    \n",
    "    pass"
   ]
  },
  {
   "cell_type": "code",
   "execution_count": 1,
   "metadata": {},
   "outputs": [],
   "source": [
    "def load_lbl(lbl, path, file, shape):\n",
    "    if lbl == 1:\n",
    "        datas = np.array(pd.read_csv(path + file, skiprows=[0], header=None))\n",
    "        \n",
    "        # data restore\n",
    "        \n",
    "        \n",
    "        # shape_assert and delete time-row\n",
    "        \n",
    "        \n",
    "    else:\n",
    "        datas = np.zeros(shape)\n",
    "        \n",
    "    return datas"
   ]
  },
  {
   "cell_type": "code",
   "execution_count": 11,
   "metadata": {},
   "outputs": [],
   "source": [
    "def data_vizualization(file, audio, eyes, face, kinect, dictt=None, verbose=True):\n",
    "    \n",
    "    label_data = np.array(pd.read_csv(pathlabels + file, skiprows=[0], header =None))\n",
    "    \n",
    "    audio_data = load_lbl(audio, pathaudio, file, (len(label_data), 36))\n",
    "    eyes_data = load_lbl(eyes, patheyes, file, (len(label_data), 6))\n",
    "    face_data = load_lbl(face, pathface, file, (len(label_data), 100))\n",
    "    kinect_data = load_lbl(kinect, pathkinect, file, (len(label_data)), 27) # 0.07\n",
    "\n",
    "    print(kinect_data.shape)"
   ]
  },
  {
   "cell_type": "code",
   "execution_count": 16,
   "metadata": {},
   "outputs": [
    {
     "name": "stdout",
     "output_type": "stream",
     "text": [
      "(462, 28)\n"
     ]
    }
   ],
   "source": [
    "for key, value in list(dict_of_labels.items())[:1]:\n",
    "    data_vizualization(key, verbose=False, **value)"
   ]
  },
  {
   "cell_type": "code",
   "execution_count": null,
   "metadata": {},
   "outputs": [],
   "source": []
  },
  {
   "cell_type": "code",
   "execution_count": null,
   "metadata": {},
   "outputs": [],
   "source": []
  },
  {
   "cell_type": "code",
   "execution_count": null,
   "metadata": {},
   "outputs": [],
   "source": []
  },
  {
   "cell_type": "code",
   "execution_count": null,
   "metadata": {},
   "outputs": [],
   "source": []
  },
  {
   "cell_type": "code",
   "execution_count": null,
   "metadata": {},
   "outputs": [],
   "source": []
  }
 ],
 "metadata": {
  "kernelspec": {
   "display_name": "Python 3",
   "language": "python",
   "name": "python3"
  },
  "language_info": {
   "codemirror_mode": {
    "name": "ipython",
    "version": 3
   },
   "file_extension": ".py",
   "mimetype": "text/x-python",
   "name": "python",
   "nbconvert_exporter": "python",
   "pygments_lexer": "ipython3",
   "version": "3.7.2"
  }
 },
 "nbformat": 4,
 "nbformat_minor": 2
}
