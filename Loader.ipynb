{
 "cells": [
  {
   "cell_type": "code",
   "execution_count": 72,
   "metadata": {},
   "outputs": [],
   "source": [
    "import pandas as pd\n",
    "import csv\n",
    "import os\n",
    "import numpy as np\n",
    "import matplotlib.pyplot as plt"
   ]
  },
  {
   "cell_type": "markdown",
   "metadata": {},
   "source": [
    "### paths"
   ]
  },
  {
   "cell_type": "code",
   "execution_count": 73,
   "metadata": {},
   "outputs": [],
   "source": [
    "pathaudio = 'Data/train/audio/'\n",
    "patheyes = 'Data/train/eyes/'\n",
    "pathface = 'Data/train/face_nn/'\n",
    "pathkinect = 'Data/train/kinect/'\n",
    "pathlabels = 'Data/train/labels/'"
   ]
  },
  {
   "cell_type": "code",
   "execution_count": 74,
   "metadata": {},
   "outputs": [],
   "source": [
    "list_audio = os.listdir(pathaudio)\n",
    "list_eyes = os.listdir(patheyes)\n",
    "list_face = os.listdir(pathface)\n",
    "list_kinect = os.listdir(pathkinect)\n",
    "list_labels = os.listdir(pathlabels)"
   ]
  },
  {
   "cell_type": "code",
   "execution_count": 75,
   "metadata": {},
   "outputs": [
    {
     "name": "stdout",
     "output_type": "stream",
     "text": [
      "Количество файлов по папкам:\n",
      "1) audio: 272\n",
      "2) eyes: 306 \n",
      "3) face: 256 \n",
      "4) kinect: 295 \n",
      "5) labels: 312\n"
     ]
    }
   ],
   "source": [
    "print('Количество файлов по папкам:\\n1) audio: {}'\n",
    "      '\\n2) eyes: {} \\n3) face: {} \\n4) kinect: {} \\n5) labels: {}'\n",
    "     .format(len(list_audio), len(list_eyes), len(list_face), len(list_kinect), len(list_labels)))"
   ]
  },
  {
   "cell_type": "code",
   "execution_count": 76,
   "metadata": {},
   "outputs": [],
   "source": [
    "dict_of_labels = {}\n",
    "count_dict = {}\n",
    "\n",
    "for label in list_labels:\n",
    "    count_audio = list_audio.count(label)\n",
    "    count_eyes = list_eyes.count(label)\n",
    "    count_face = list_face.count(label)\n",
    "    count_kinect = list_kinect.count(label)\n",
    "    \n",
    "    if count_audio + count_eyes + count_face + count_kinect == 0:\n",
    "        continue\n",
    "    \n",
    "    object_dict = {'audio' : count_audio, 'eyes' : count_eyes, 'face' : count_face, 'kinect' : count_kinect}\n",
    "    \n",
    "    dict_of_labels[label] = object_dict\n",
    "    count_dict[label] = count_audio + count_eyes + count_face + count_kinect"
   ]
  },
  {
   "cell_type": "code",
   "execution_count": 77,
   "metadata": {},
   "outputs": [
    {
     "name": "stdout",
     "output_type": "stream",
     "text": [
      "306\n"
     ]
    },
    {
     "data": {
      "text/plain": [
       "[('id5181a851.csv', {'audio': 1, 'eyes': 1, 'face': 1, 'kinect': 1}),\n",
       " ('id13feb714.csv', {'audio': 1, 'eyes': 1, 'face': 1, 'kinect': 1}),\n",
       " ('idde0a7733.csv', {'audio': 0, 'eyes': 1, 'face': 0, 'kinect': 1}),\n",
       " ('id42d71a97.csv', {'audio': 0, 'eyes': 1, 'face': 1, 'kinect': 1}),\n",
       " ('id4d4cd53e.csv', {'audio': 1, 'eyes': 1, 'face': 0, 'kinect': 1}),\n",
       " ('id571e2b00.csv', {'audio': 0, 'eyes': 1, 'face': 1, 'kinect': 0}),\n",
       " ('id911ae0ab.csv', {'audio': 1, 'eyes': 1, 'face': 1, 'kinect': 1}),\n",
       " ('id8036ccb4.csv', {'audio': 1, 'eyes': 1, 'face': 1, 'kinect': 1}),\n",
       " ('idb9d6496b.csv', {'audio': 0, 'eyes': 1, 'face': 1, 'kinect': 0}),\n",
       " ('idd4bd6c5d.csv', {'audio': 1, 'eyes': 1, 'face': 1, 'kinect': 1})]"
      ]
     },
     "execution_count": 77,
     "metadata": {},
     "output_type": "execute_result"
    }
   ],
   "source": [
    "print(len(dict_of_labels))\n",
    "\n",
    "list(dict_of_labels.items())[:10]"
   ]
  },
  {
   "cell_type": "code",
   "execution_count": null,
   "metadata": {},
   "outputs": [],
   "source": []
  },
  {
   "cell_type": "markdown",
   "metadata": {},
   "source": [
    "### DataRestorator"
   ]
  },
  {
   "cell_type": "code",
   "execution_count": 183,
   "metadata": {},
   "outputs": [],
   "source": [
    "def restoration(data, shape, time_label, precision = 2):\n",
    "    \n",
    "    time_data = data[:, 0]\n",
    "    set_precision = '{:.' + str(precision) + 'f}'\n",
    "    step = float(set_precision.format(time_data[1] - time_data[0]))\n",
    "    labelstep = 0.01\n",
    "    koef = int(step / labelstep)\n",
    "    new_data = []\n",
    "    \n",
    "    if len(time_label) != len(time_data):\n",
    "             \n",
    "        j = 0 # iter of time_data\n",
    "        flag = 1 # flag for count passes\n",
    "        for i in range(len(time_label)):\n",
    "\n",
    "            diff = time_label[i] - time_data[j]\n",
    "            if abs(diff) <= ((labelstep + 0.00001) / 2):\n",
    "                if flag <= 2 * koef:\n",
    "                    for _ in range(flag):\n",
    "                        new_data.append(data[j])\n",
    "                else:\n",
    "                    #print('BIIIG PASS!!!', flag, koef)\n",
    "                    new_data.append(np.zeros((flag - 1, shape[1] + 1)))\n",
    "                    \n",
    "                #new_data.append(data[j])\n",
    "                j += 1\n",
    "                flag = 1\n",
    "                \n",
    "            else:\n",
    "                flag += 1\n",
    "\n",
    "            \n",
    "            if j == len(time_data):\n",
    "                break    \n",
    "                \n",
    "    else:\n",
    "        new_data = data\n",
    "            \n",
    "\n",
    "    new_data = np.vstack(new_data)\n",
    "     \n",
    "    # final tune\n",
    "    if shape[0] - new_data.shape[0] < 9:\n",
    "        # add last elem\n",
    "        for i in range(shape[0] - new_data.shape[0]):\n",
    "            new_data = np.vstack([new_data, data[-1]])                       \n",
    "\n",
    "    elif shape[0] - new_data.shape[0] > 8:\n",
    "        #print('BIG PASS at the end!!!', shape[0] - new_data.shape[0])\n",
    "        new_data = np.vstack([new_data, np.zeros((shape[0] - new_data.shape[0], shape[1] + 1))])   \n",
    "    \n",
    "    return new_data"
   ]
  },
  {
   "cell_type": "code",
   "execution_count": 185,
   "metadata": {},
   "outputs": [],
   "source": [
    "def load_lbl(lbl, path, file, labeldata, shape):\n",
    "    if lbl == 1:\n",
    "        datas = np.array(pd.read_csv(path + file, skiprows=[0], header=None))\n",
    "        # data restore\n",
    "        restore_data = restoration(datas, shape, labeldata)[:, 1:]\n",
    "        # shape_assert and delete time-row\n",
    "        assert restore_data.shape == shape, 'shapes dont eq'\n",
    "        \n",
    "    else:\n",
    "        restore_data = np.zeros(shape)\n",
    "        \n",
    "    return restore_data"
   ]
  },
  {
   "cell_type": "code",
   "execution_count": 198,
   "metadata": {},
   "outputs": [],
   "source": [
    "def data_generator(file, audio, eyes, face, kinect, dictt=None, verbose=True):    \n",
    "    label_data = np.array(pd.read_csv(pathlabels + file, skiprows=[0], header=None))\n",
    "    timev = label_data[:, 0]\n",
    "    label_data = label_data[:, 1:]\n",
    "\n",
    "    audio_data = load_lbl(audio, pathaudio, file, timev, (len(label_data), 36))\n",
    "    eyes_data = load_lbl(eyes, patheyes, file, timev, (len(label_data), 6))\n",
    "    face_data = load_lbl(face, pathface, file, timev, (len(label_data), 100))\n",
    "    kinect_data = load_lbl(kinect, pathkinect, file, timev, (len(label_data), 27)) # 0.07\n",
    "    \n",
    "    return (label_data, audio_data, eyes_data, face_data, kinect_data)"
   ]
  },
  {
   "cell_type": "code",
   "execution_count": 188,
   "metadata": {},
   "outputs": [],
   "source": [
    "for key, value in list(dict_of_labels.items())[:10]:\n",
    "\n",
    "    data_generator(key, verbose=False, **value)"
   ]
  },
  {
   "cell_type": "markdown",
   "metadata": {},
   "source": [
    "### Try"
   ]
  },
  {
   "cell_type": "code",
   "execution_count": 197,
   "metadata": {},
   "outputs": [
    {
     "name": "stdout",
     "output_type": "stream",
     "text": [
      "idc469a517.csv {'audio': 1, 'eyes': 1, 'face': 1, 'kinect': 1}\n"
     ]
    }
   ],
   "source": [
    "key, value = list(dict_of_labels.items())[135]\n",
    "\n",
    "print(key, value)"
   ]
  },
  {
   "cell_type": "code",
   "execution_count": 200,
   "metadata": {},
   "outputs": [
    {
     "name": "stdout",
     "output_type": "stream",
     "text": [
      "(3324, 7)\n",
      "(3324, 36)\n",
      "(3324, 6)\n",
      "(3324, 100)\n",
      "(3324, 27)\n"
     ]
    }
   ],
   "source": [
    "data = data_generator(key, **value, verbose=False)\n",
    "\n",
    "for d in data:\n",
    "    print(d.shape)"
   ]
  },
  {
   "cell_type": "code",
   "execution_count": null,
   "metadata": {},
   "outputs": [],
   "source": []
  },
  {
   "cell_type": "code",
   "execution_count": null,
   "metadata": {},
   "outputs": [],
   "source": []
  },
  {
   "cell_type": "code",
   "execution_count": null,
   "metadata": {},
   "outputs": [],
   "source": []
  }
 ],
 "metadata": {
  "kernelspec": {
   "display_name": "Python 3",
   "language": "python",
   "name": "python3"
  },
  "language_info": {
   "codemirror_mode": {
    "name": "ipython",
    "version": 3
   },
   "file_extension": ".py",
   "mimetype": "text/x-python",
   "name": "python",
   "nbconvert_exporter": "python",
   "pygments_lexer": "ipython3",
   "version": "3.7.2"
  }
 },
 "nbformat": 4,
 "nbformat_minor": 2
}
